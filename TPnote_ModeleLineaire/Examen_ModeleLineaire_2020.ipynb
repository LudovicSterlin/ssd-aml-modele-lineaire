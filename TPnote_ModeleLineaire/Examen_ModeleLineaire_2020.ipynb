{
 "cells": [
  {
   "source": [
    "# EXAMEN 2020\n",
    "Cet examen est composé de deux exercices. \n",
    "\n",
    "Les réponses seront données dans un notebook et l'examen sera fait soit seul soit en binome. "
   ],
   "cell_type": "markdown",
   "metadata": {
    "lines_to_next_cell": 0,
    "title": "++++++++++++++++++++++++++++++++++++++++++++++++++++++++++++++++++++++++++++++++++++++++"
   }
  },
  {
   "cell_type": "code",
   "execution_count": null,
   "metadata": {
    "lines_to_next_cell": 2,
    "title": "++++++++++++++++++++++++++++++++++++++++++++++++++++++++++++++++++++++++++++++++++++++++"
   },
   "outputs": [],
   "source": [
    "# make general imports\n",
    "import pandas\n",
    "import numpy as np\n",
    "import matplotlib.pyplot as plt\n",
    "from sklearn import preprocessing\n"
   ]
  },
  {
   "source": [
    "# Exercice 1 : \n",
    "Nous souhaitons maintenant evaluer si un nouveau traitement a un effet significatif sur l'efficacite d'un moteur en fonction de son age.  "
   ],
   "cell_type": "markdown",
   "metadata": {
    "lines_to_next_cell": 0,
    "title": "++++++++++++++++++++++++++++++++++++++++++++++++++++++++++++++++++++++++++++++++++++++++"
   }
  },
  {
   "source": [
    "\n",
    "## QUESTION 1.1 : Lisez le fichier `Observations_2.csv` qui contient les donnees, traitez les et representez les avec :\n",
    "- 'Age' en abscisse\n",
    "- 'Efficiency' en ordonnee\n",
    "- Les observations avec le traitement standard (Standard) en bleu\n",
    "- Les observations avec le nouveau traitement (Tested) en rouge.\n",
    "\n",
    "A la vue du graphe, vous semble-t-il y avoir un effet ?"
   ],
   "cell_type": "markdown",
   "metadata": {}
  },
  {
   "cell_type": "code",
   "execution_count": null,
   "metadata": {
    "lines_to_next_cell": 2,
    "title": "++++++++++++++++++++++++++++++++++++++++++++++++++++++++++++++++++++++++++++++++++++++++"
   },
   "outputs": [],
   "source": [
    "\n",
    "dataframe=pandas.read_csv(\"./Observations_2.csv\",sep=' ')\n",
    "\n",
    "\n",
    "\n"
   ]
  },
  {
   "source": [
    "## QUESTION 1.2 : \n",
    "On supposera qu'il existe une relation lineaire entre l'age du moteur et son niveau d'efficacite a un bruit Gaussien pres. Utilisez un modele de type regression lineaire pour mettre en lien les données. Utilisez ensuite un test statistique pour evaluer si l'impact du traitement est significatif.\n"
   ],
   "cell_type": "markdown",
   "metadata": {}
  },
  {
   "cell_type": "code",
   "execution_count": null,
   "metadata": {},
   "outputs": [],
   "source": []
  },
  {
   "source": [
    "# Exercice 2 : \n",
    "Nous souhaitons développer une méthode de type apprentissage automatique qui quantifie en temps reel le risque de collision d'un drone avec des objets environnants.\n",
    " \n",
    "Pour y arriver, nous avons embarqué 18 capteurs sur un drone en phase de test. Un expert a alors quantifié à plusieurs instants son risque de collision avec un autre objet. \n",
    "Un total de 67 observations labellisées ont été enregistrées dans le fichier `Observations_1.csv`.\n",
    "\n",
    "Nous allons évaluer dans cet exercice si ces observations nous permettent de mettre en lien les données capteurs avec le niveau de risque. Nous allons aussi évaluer si nous aurions une bonne performance avec un sous ensemble pertinent des capteurs. Chaque capteur a en effet un poids non négligeable et à besoin d'énergie pour fonctionner, ce qui a un impact sur le temps d'utilisation du drone entre deux rechargements de ses batteries."
   ],
   "cell_type": "markdown",
   "metadata": {
    "lines_to_next_cell": 0,
    "title": "++++++++++++++++++++++++++++++++++++++++++++++++++++++++++++++++++++++++++++++++++++++++"
   }
  },
  {
   "cell_type": "code",
   "execution_count": null,
   "metadata": {
    "title": "++++++++++++++++++++++++++++++++++++++++++++++++++++++++++++++++++++++++++++++++++++++++"
   },
   "outputs": [],
   "source": [
    "\n",
    "dataframe=pandas.read_csv(\"./Observations_1.csv\",sep=';')\n",
    "\n",
    "listColNames=list(dataframe.columns)\n",
    "\n",
    "\n",
    "XY=dataframe.values\n",
    "ColNb_Y=listColNames.index('Risk_level')\n",
    "\n",
    "\n",
    "Y=XY[:,ColNb_Y].reshape((XY.shape[0],1))   #reshape is to make sure that Y is a column vector\n",
    "X = np.delete(XY, ColNb_Y, 1)\n",
    "\n",
    "listColNames.pop(ColNb_Y)     #to make it contains the column names of X only\n",
    "\n",
    "\n",
    "for Col in range(len(listColNames)):\n",
    "  plt.plot(X[:,Col],Y[:],'.')\n",
    "  plt.xlabel(listColNames[Col])\n",
    "  plt.ylabel('Risk_level')\n",
    "  plt.show()\n",
    "\n",
    "\n"
   ]
  },
  {
   "source": [
    "## QUESTION 2.1 : \n",
    "Observez les donnees unes par unes. Est-ce que vous identifiez visuellement des liens entre certaines variables et la variable 'Risk_level'. Si oui, lesquels ?"
   ],
   "cell_type": "markdown",
   "metadata": {}
  },
  {
   "cell_type": "code",
   "execution_count": null,
   "metadata": {},
   "outputs": [],
   "source": []
  },
  {
   "source": [
    "## QUESTION 2.2 :   On se demande si il est possible de predire le niveau de 'Risk_level' à partir d'une\n",
    "seule des variables 'Feature_01', 'Feature_07' ou 'Feature_16'."
   ],
   "cell_type": "markdown",
   "metadata": {}
  },
  {
   "cell_type": "code",
   "execution_count": null,
   "metadata": {},
   "outputs": [],
   "source": []
  },
  {
   "source": [
    "## QUESTION 2.2.1 : \n",
    "Effectuez une regression lineaire simple entre 'Risk_level' et chacune de ces variables. Toutes les donnees seront utilisees. Evaluez alors la qualité des predictions a sur toutes les donnees l'aide de la moyenne de l'erreur de prediction au carre (MSE). \n",
    "Quel est le risque potentiel en utilisant cette stratégie de validation de l'apprentissage ?"
   ],
   "cell_type": "markdown",
   "metadata": {}
  },
  {
   "cell_type": "code",
   "execution_count": null,
   "metadata": {},
   "outputs": [],
   "source": []
  },
  {
   "source": [
    "## QUESTION 2.2.2 : \n",
    "Evaluez a quel point les predictions sont stables a l'aide d'une methode de validation croisee\n",
    "de type 4-folds."
   ],
   "cell_type": "markdown",
   "metadata": {}
  },
  {
   "cell_type": "code",
   "execution_count": null,
   "metadata": {},
   "outputs": [],
   "source": []
  },
  {
   "source": [
    "## QUESTION 2.2.3 : \n",
    "\n",
    "Peut-on enfin dire si on observe une relation significative entre 'Risk_level' et (independament) 'Feature_01', 'Feature_07' ou bien 'Feature_16'. \n",
    "\n",
    "On peut le valider a l'aide d'un test d'hypothese dont on decrira la procedure."
   ],
   "cell_type": "markdown",
   "metadata": {}
  },
  {
   "cell_type": "code",
   "execution_count": null,
   "metadata": {},
   "outputs": [],
   "source": []
  },
  {
   "source": [
    "## QUESTION 2.3 :\n",
    "On s'interesse maintenant au lien entre la variable 'Risk_level' et 'Feature_12'.\n",
    "On peut remarquer que ces donnees contiennent deux valeurs aberrantes."
   ],
   "cell_type": "markdown",
   "metadata": {}
  },
  {
   "cell_type": "code",
   "execution_count": null,
   "metadata": {},
   "outputs": [],
   "source": []
  },
  {
   "source": [
    "## QUESTION 2.3.1 : \n",
    "Definissez une procedure pour detecter automatiquement deux donnees aberrantes dans un jeu de donnees."
   ],
   "cell_type": "markdown",
   "metadata": {}
  },
  {
   "cell_type": "code",
   "execution_count": null,
   "metadata": {},
   "outputs": [],
   "source": []
  },
  {
   "source": [
    "## QUESTION 2.3.2 : \n",
    "Nous supprimerons dans la suite de cet exercice les deux observations qui sont aberrantes sur la variable 'Feature_12'. Comment auriez-vous traite ces observations si vous aviez absolument voulu preserver l'information qu'elles contiennent dans les autres variables ?"
   ],
   "cell_type": "markdown",
   "metadata": {}
  },
  {
   "cell_type": "code",
   "execution_count": null,
   "metadata": {},
   "outputs": [],
   "source": []
  },
  {
   "source": [
    "## QUESTION 2.4 :\n",
    "Une fois les deux observations aberrantes de 'Feature_12' supprimees, on souhaite selectionner les variables de 'X' qui permettent de prédire au mieux 'Risk_level' a l'aide de la regression multiple regularisee."
   ],
   "cell_type": "markdown",
   "metadata": {}
  },
  {
   "cell_type": "code",
   "execution_count": null,
   "metadata": {},
   "outputs": [],
   "source": []
  },
  {
   "source": [
    "## QUESTION 2.4.1 : \n",
    "Quelle strategie vous semble la plus appropriee pour selectionner les variables les plus pertinentes ? Quel pretraitement allez-vous de meme effectuer sur les donnees."
   ],
   "cell_type": "markdown",
   "metadata": {}
  },
  {
   "cell_type": "code",
   "execution_count": null,
   "metadata": {},
   "outputs": [],
   "source": []
  },
  {
   "source": [
    "\n",
    "## QUESTION 2.4.2 : Effectuez la procedure de selection des variables optimales en parametrant a la main le poids\n",
    "entre la qualite de prediction et le niveau de regularisation."
   ],
   "cell_type": "markdown",
   "metadata": {}
  },
  {
   "cell_type": "code",
   "execution_count": null,
   "metadata": {},
   "outputs": [],
   "source": []
  },
  {
   "source": [
    "## QUESTION 2.4.3 : \n",
    "Effectuez la procedure automatique de parametrisation de ce poids, de sorte a ce q'un maximum de trois variables soit typiquement selectionne et que la qualite de prediction soit optimale.\n",
    "\n",
    "Quelle methode de validation croisee vous semble la plus raisonnable ici ? \n",
    "\n",
    "La selection des variables est-elle stable ?"
   ],
   "cell_type": "markdown",
   "metadata": {}
  },
  {
   "cell_type": "code",
   "execution_count": null,
   "metadata": {},
   "outputs": [],
   "source": []
  }
 ],
 "metadata": {
  "jupytext": {
   "cell_metadata_filter": "title,-all",
   "main_language": "python",
   "notebook_metadata_filter": "-all"
  }
 },
 "nbformat": 4,
 "nbformat_minor": 4
}